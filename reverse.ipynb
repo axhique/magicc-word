{
 "cells": [
  {
   "cell_type": "code",
   "execution_count": null,
   "metadata": {},
   "outputs": [],
   "source": [
    "input_string = str(input(\"enter a word :\"))\n",
    "reversed_string = input_string[::-1]\n",
    "\n",
    "print(\"Entered word :\",input_string)\n",
    "print(\"Reversed word :\",reversed_string)"
   ]
  }
 ],
 "metadata": {
  "language_info": {
   "name": "python"
  },
  "orig_nbformat": 4
 },
 "nbformat": 4,
 "nbformat_minor": 2
}
